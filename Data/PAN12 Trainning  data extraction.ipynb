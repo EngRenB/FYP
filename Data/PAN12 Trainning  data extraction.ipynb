{
 "cells": [
  {
   "cell_type": "code",
   "execution_count": 1,
   "id": "197a36ee-e8c6-4027-ab67-46d5df6d049b",
   "metadata": {},
   "outputs": [],
   "source": [
    "#packages \n",
    "import xml.etree.ElementTree as ET\n",
    "import pandas as pd"
   ]
  },
  {
   "cell_type": "code",
   "execution_count": 2,
   "id": "98b07a39-131a-48b9-b3c9-02130a11f970",
   "metadata": {},
   "outputs": [],
   "source": [
    "tree = ET.parse('PAN12_Training.xml')\n",
    "root = tree.getroot()"
   ]
  },
  {
   "cell_type": "code",
   "execution_count": 3,
   "id": "fbaee4c5-47b4-4406-aa3b-ed279721725e",
   "metadata": {},
   "outputs": [
    {
     "name": "stdout",
     "output_type": "stream",
     "text": [
      "conversations\n"
     ]
    }
   ],
   "source": [
    "print(root.tag)"
   ]
  },
  {
   "cell_type": "code",
   "execution_count": 4,
   "id": "12a427d4-b40e-4ce8-9c10-38b7b77cd332",
   "metadata": {},
   "outputs": [
    {
     "name": "stdout",
     "output_type": "stream",
     "text": [
      "66927\n"
     ]
    }
   ],
   "source": [
    "print(len(root))"
   ]
  },
  {
   "cell_type": "code",
   "execution_count": 5,
   "id": "f7bed2f9-2fff-4775-ad6a-23880990f4a7",
   "metadata": {},
   "outputs": [],
   "source": [
    "df = pd.read_xml('PAN12_Training.xml', xpath = '//message')"
   ]
  },
  {
   "cell_type": "code",
   "execution_count": 6,
   "id": "dcfe6dc4-71b7-4cdf-a327-8bdd2a6cfebe",
   "metadata": {},
   "outputs": [
    {
     "data": {
      "text/html": [
       "<div>\n",
       "<style scoped>\n",
       "    .dataframe tbody tr th:only-of-type {\n",
       "        vertical-align: middle;\n",
       "    }\n",
       "\n",
       "    .dataframe tbody tr th {\n",
       "        vertical-align: top;\n",
       "    }\n",
       "\n",
       "    .dataframe thead th {\n",
       "        text-align: right;\n",
       "    }\n",
       "</style>\n",
       "<table border=\"1\" class=\"dataframe\">\n",
       "  <thead>\n",
       "    <tr style=\"text-align: right;\">\n",
       "      <th></th>\n",
       "      <th>line</th>\n",
       "      <th>author</th>\n",
       "      <th>time</th>\n",
       "      <th>text</th>\n",
       "    </tr>\n",
       "  </thead>\n",
       "  <tbody>\n",
       "    <tr>\n",
       "      <th>0</th>\n",
       "      <td>1</td>\n",
       "      <td>97964e7a9e8eb9cf78f2e4d7b2ff34c7</td>\n",
       "      <td>03:20</td>\n",
       "      <td>Hola.</td>\n",
       "    </tr>\n",
       "    <tr>\n",
       "      <th>1</th>\n",
       "      <td>2</td>\n",
       "      <td>0158d0d6781fc4d493f243d4caa49747</td>\n",
       "      <td>03:20</td>\n",
       "      <td>hi.</td>\n",
       "    </tr>\n",
       "    <tr>\n",
       "      <th>2</th>\n",
       "      <td>3</td>\n",
       "      <td>0158d0d6781fc4d493f243d4caa49747</td>\n",
       "      <td>03:20</td>\n",
       "      <td>whats up?</td>\n",
       "    </tr>\n",
       "    <tr>\n",
       "      <th>3</th>\n",
       "      <td>4</td>\n",
       "      <td>97964e7a9e8eb9cf78f2e4d7b2ff34c7</td>\n",
       "      <td>03:20</td>\n",
       "      <td>not a ton.</td>\n",
       "    </tr>\n",
       "    <tr>\n",
       "      <th>4</th>\n",
       "      <td>5</td>\n",
       "      <td>97964e7a9e8eb9cf78f2e4d7b2ff34c7</td>\n",
       "      <td>03:20</td>\n",
       "      <td>you?</td>\n",
       "    </tr>\n",
       "    <tr>\n",
       "      <th>...</th>\n",
       "      <td>...</td>\n",
       "      <td>...</td>\n",
       "      <td>...</td>\n",
       "      <td>...</td>\n",
       "    </tr>\n",
       "    <tr>\n",
       "      <th>903602</th>\n",
       "      <td>101</td>\n",
       "      <td>74bfc043bd5ce9c17b37ffae6e0ba2fa</td>\n",
       "      <td>22:36</td>\n",
       "      <td>oh ok</td>\n",
       "    </tr>\n",
       "    <tr>\n",
       "      <th>903603</th>\n",
       "      <td>102</td>\n",
       "      <td>8cd850ea4215ee7c4b94b6bcc0bae593</td>\n",
       "      <td>22:36</td>\n",
       "      <td>i will look for you tomorrow</td>\n",
       "    </tr>\n",
       "    <tr>\n",
       "      <th>903604</th>\n",
       "      <td>103</td>\n",
       "      <td>74bfc043bd5ce9c17b37ffae6e0ba2fa</td>\n",
       "      <td>22:36</td>\n",
       "      <td>ok</td>\n",
       "    </tr>\n",
       "    <tr>\n",
       "      <th>903605</th>\n",
       "      <td>104</td>\n",
       "      <td>8cd850ea4215ee7c4b94b6bcc0bae593</td>\n",
       "      <td>22:36</td>\n",
       "      <td>bye lissa</td>\n",
       "    </tr>\n",
       "    <tr>\n",
       "      <th>903606</th>\n",
       "      <td>105</td>\n",
       "      <td>74bfc043bd5ce9c17b37ffae6e0ba2fa</td>\n",
       "      <td>22:37</td>\n",
       "      <td>bye jake</td>\n",
       "    </tr>\n",
       "  </tbody>\n",
       "</table>\n",
       "<p>903607 rows × 4 columns</p>\n",
       "</div>"
      ],
      "text/plain": [
       "        line                            author   time  \\\n",
       "0          1  97964e7a9e8eb9cf78f2e4d7b2ff34c7  03:20   \n",
       "1          2  0158d0d6781fc4d493f243d4caa49747  03:20   \n",
       "2          3  0158d0d6781fc4d493f243d4caa49747  03:20   \n",
       "3          4  97964e7a9e8eb9cf78f2e4d7b2ff34c7  03:20   \n",
       "4          5  97964e7a9e8eb9cf78f2e4d7b2ff34c7  03:20   \n",
       "...      ...                               ...    ...   \n",
       "903602   101  74bfc043bd5ce9c17b37ffae6e0ba2fa  22:36   \n",
       "903603   102  8cd850ea4215ee7c4b94b6bcc0bae593  22:36   \n",
       "903604   103  74bfc043bd5ce9c17b37ffae6e0ba2fa  22:36   \n",
       "903605   104  8cd850ea4215ee7c4b94b6bcc0bae593  22:36   \n",
       "903606   105  74bfc043bd5ce9c17b37ffae6e0ba2fa  22:37   \n",
       "\n",
       "                                text  \n",
       "0                              Hola.  \n",
       "1                                hi.  \n",
       "2                          whats up?  \n",
       "3                         not a ton.  \n",
       "4                               you?  \n",
       "...                              ...  \n",
       "903602                         oh ok  \n",
       "903603  i will look for you tomorrow  \n",
       "903604                            ok  \n",
       "903605                     bye lissa  \n",
       "903606                      bye jake  \n",
       "\n",
       "[903607 rows x 4 columns]"
      ]
     },
     "execution_count": 6,
     "metadata": {},
     "output_type": "execute_result"
    }
   ],
   "source": [
    "df"
   ]
  },
  {
   "cell_type": "code",
   "execution_count": 7,
   "id": "37981c7e-b405-4f6e-8c7b-f5a9ad9515e8",
   "metadata": {},
   "outputs": [],
   "source": [
    "df.to_csv('Training_Chatlogs.csv', index = False)"
   ]
  }
 ],
 "metadata": {
  "kernelspec": {
   "display_name": "Python 3 (ipykernel)",
   "language": "python",
   "name": "python3"
  },
  "language_info": {
   "codemirror_mode": {
    "name": "ipython",
    "version": 3
   },
   "file_extension": ".py",
   "mimetype": "text/x-python",
   "name": "python",
   "nbconvert_exporter": "python",
   "pygments_lexer": "ipython3",
   "version": "3.11.9"
  }
 },
 "nbformat": 4,
 "nbformat_minor": 5
}
