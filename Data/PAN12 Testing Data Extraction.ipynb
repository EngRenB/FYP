{
 "cells": [
  {
   "cell_type": "code",
   "execution_count": 2,
   "id": "197a36ee-e8c6-4027-ab67-46d5df6d049b",
   "metadata": {},
   "outputs": [],
   "source": [
    "#packages \n",
    "import xml.etree.ElementTree as ET\n",
    "import pandas as pd"
   ]
  },
  {
   "cell_type": "code",
   "execution_count": 3,
   "id": "98b07a39-131a-48b9-b3c9-02130a11f970",
   "metadata": {},
   "outputs": [],
   "source": [
    "tree = ET.parse('PAN12_Test.xml')\n",
    "root = tree.getroot()"
   ]
  },
  {
   "cell_type": "code",
   "execution_count": 4,
   "id": "fbaee4c5-47b4-4406-aa3b-ed279721725e",
   "metadata": {},
   "outputs": [
    {
     "name": "stdout",
     "output_type": "stream",
     "text": [
      "conversations\n"
     ]
    }
   ],
   "source": [
    "#display the output of the root tag of the file which is conversations\n",
    "print(root.tag)"
   ]
  },
  {
   "cell_type": "code",
   "execution_count": 5,
   "id": "12a427d4-b40e-4ce8-9c10-38b7b77cd332",
   "metadata": {},
   "outputs": [
    {
     "name": "stdout",
     "output_type": "stream",
     "text": [
      "155128\n"
     ]
    }
   ],
   "source": [
    "#the length of the conversations \n",
    "print(len(root))"
   ]
  },
  {
   "cell_type": "code",
   "execution_count": 6,
   "id": "f7bed2f9-2fff-4775-ad6a-23880990f4a7",
   "metadata": {},
   "outputs": [],
   "source": [
    "#convert the XML file to CSV file using the node message\n",
    "df = pd.read_xml('PAN12_Test.xml', xpath = '//message')"
   ]
  },
  {
   "cell_type": "code",
   "execution_count": 7,
   "id": "dcfe6dc4-71b7-4cdf-a327-8bdd2a6cfebe",
   "metadata": {},
   "outputs": [
    {
     "data": {
      "text/html": [
       "<div>\n",
       "<style scoped>\n",
       "    .dataframe tbody tr th:only-of-type {\n",
       "        vertical-align: middle;\n",
       "    }\n",
       "\n",
       "    .dataframe tbody tr th {\n",
       "        vertical-align: top;\n",
       "    }\n",
       "\n",
       "    .dataframe thead th {\n",
       "        text-align: right;\n",
       "    }\n",
       "</style>\n",
       "<table border=\"1\" class=\"dataframe\">\n",
       "  <thead>\n",
       "    <tr style=\"text-align: right;\">\n",
       "      <th></th>\n",
       "      <th>line</th>\n",
       "      <th>author</th>\n",
       "      <th>time</th>\n",
       "      <th>text</th>\n",
       "    </tr>\n",
       "  </thead>\n",
       "  <tbody>\n",
       "    <tr>\n",
       "      <th>0</th>\n",
       "      <td>1</td>\n",
       "      <td>0a39f78bcb297ab0ebe8a29c28bfed89</td>\n",
       "      <td>15:24</td>\n",
       "      <td>bugmail: [Bug 6978] New: Mark eof-terminated s...</td>\n",
       "    </tr>\n",
       "    <tr>\n",
       "      <th>1</th>\n",
       "      <td>2</td>\n",
       "      <td>60659cfda992013e610f285c46692d28</td>\n",
       "      <td>15:32</td>\n",
       "      <td>Henri, can I ask you a Firefox build question ...</td>\n",
       "    </tr>\n",
       "    <tr>\n",
       "      <th>2</th>\n",
       "      <td>3</td>\n",
       "      <td>b8810fee2f4a71f849f3f7409546d1d9</td>\n",
       "      <td>15:34</td>\n",
       "      <td>60659cfda992013e610f285c46692d28: sure, but I ...</td>\n",
       "    </tr>\n",
       "    <tr>\n",
       "      <th>3</th>\n",
       "      <td>4</td>\n",
       "      <td>60659cfda992013e610f285c46692d28</td>\n",
       "      <td>15:35</td>\n",
       "      <td>It appears the build runs through, it creates ...</td>\n",
       "    </tr>\n",
       "    <tr>\n",
       "      <th>4</th>\n",
       "      <td>5</td>\n",
       "      <td>60659cfda992013e610f285c46692d28</td>\n",
       "      <td>15:35</td>\n",
       "      <td>when I start it, I get my standard install of ...</td>\n",
       "    </tr>\n",
       "    <tr>\n",
       "      <th>...</th>\n",
       "      <td>...</td>\n",
       "      <td>...</td>\n",
       "      <td>...</td>\n",
       "      <td>...</td>\n",
       "    </tr>\n",
       "    <tr>\n",
       "      <th>2058776</th>\n",
       "      <td>53</td>\n",
       "      <td>105ca6d0fd6c2c3e136980d3548f16ab</td>\n",
       "      <td>02:32</td>\n",
       "      <td>Come the revolution, I'll worry about it</td>\n",
       "    </tr>\n",
       "    <tr>\n",
       "      <th>2058777</th>\n",
       "      <td>54</td>\n",
       "      <td>48a4fba2c4916bbc8aae694a3877dca3</td>\n",
       "      <td>02:33</td>\n",
       "      <td>no pasaran!</td>\n",
       "    </tr>\n",
       "    <tr>\n",
       "      <th>2058778</th>\n",
       "      <td>55</td>\n",
       "      <td>48a4fba2c4916bbc8aae694a3877dca3</td>\n",
       "      <td>02:33</td>\n",
       "      <td>:)</td>\n",
       "    </tr>\n",
       "    <tr>\n",
       "      <th>2058779</th>\n",
       "      <td>56</td>\n",
       "      <td>e1e3d026bb7ee9ee264316da10378aeb</td>\n",
       "      <td>02:35</td>\n",
       "      <td>25mhz is slow :(</td>\n",
       "    </tr>\n",
       "    <tr>\n",
       "      <th>2058780</th>\n",
       "      <td>57</td>\n",
       "      <td>542ebcbcf6ee466a1780913e2c800716</td>\n",
       "      <td>02:42</td>\n",
       "      <td>&lt;a href=\"http://www.microsoft.com/windowsserve...</td>\n",
       "    </tr>\n",
       "  </tbody>\n",
       "</table>\n",
       "<p>2058781 rows × 4 columns</p>\n",
       "</div>"
      ],
      "text/plain": [
       "         line                            author   time  \\\n",
       "0           1  0a39f78bcb297ab0ebe8a29c28bfed89  15:24   \n",
       "1           2  60659cfda992013e610f285c46692d28  15:32   \n",
       "2           3  b8810fee2f4a71f849f3f7409546d1d9  15:34   \n",
       "3           4  60659cfda992013e610f285c46692d28  15:35   \n",
       "4           5  60659cfda992013e610f285c46692d28  15:35   \n",
       "...       ...                               ...    ...   \n",
       "2058776    53  105ca6d0fd6c2c3e136980d3548f16ab  02:32   \n",
       "2058777    54  48a4fba2c4916bbc8aae694a3877dca3  02:33   \n",
       "2058778    55  48a4fba2c4916bbc8aae694a3877dca3  02:33   \n",
       "2058779    56  e1e3d026bb7ee9ee264316da10378aeb  02:35   \n",
       "2058780    57  542ebcbcf6ee466a1780913e2c800716  02:42   \n",
       "\n",
       "                                                      text  \n",
       "0        bugmail: [Bug 6978] New: Mark eof-terminated s...  \n",
       "1        Henri, can I ask you a Firefox build question ...  \n",
       "2        60659cfda992013e610f285c46692d28: sure, but I ...  \n",
       "3        It appears the build runs through, it creates ...  \n",
       "4        when I start it, I get my standard install of ...  \n",
       "...                                                    ...  \n",
       "2058776           Come the revolution, I'll worry about it  \n",
       "2058777                                        no pasaran!  \n",
       "2058778                                                 :)  \n",
       "2058779                                   25mhz is slow :(  \n",
       "2058780  <a href=\"http://www.microsoft.com/windowsserve...  \n",
       "\n",
       "[2058781 rows x 4 columns]"
      ]
     },
     "execution_count": 7,
     "metadata": {},
     "output_type": "execute_result"
    }
   ],
   "source": [
    "df"
   ]
  },
  {
   "cell_type": "code",
   "execution_count": 9,
   "id": "37981c7e-b405-4f6e-8c7b-f5a9ad9515e8",
   "metadata": {},
   "outputs": [],
   "source": [
    "df.to_csv('Test_Chatlogs.csv', index = False)"
   ]
  }
 ],
 "metadata": {
  "kernelspec": {
   "display_name": "Python 3 (ipykernel)",
   "language": "python",
   "name": "python3"
  },
  "language_info": {
   "codemirror_mode": {
    "name": "ipython",
    "version": 3
   },
   "file_extension": ".py",
   "mimetype": "text/x-python",
   "name": "python",
   "nbconvert_exporter": "python",
   "pygments_lexer": "ipython3",
   "version": "3.11.9"
  }
 },
 "nbformat": 4,
 "nbformat_minor": 5
}
