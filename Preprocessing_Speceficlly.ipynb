{
 "cells": [
  {
   "cell_type": "code",
   "execution_count": 2,
   "id": "b48527af-afed-4a19-b977-345ee7b7ab31",
   "metadata": {},
   "outputs": [],
   "source": [
    "import pandas as pd\n",
    "\n",
    "#nltk packages\n",
    "import re\n",
    "import string\n",
    "import nltk\n",
    "from nltk.corpus import stopwords\n",
    "from nltk.tokenize import word_tokenize\n",
    "from nltk.stem import WordNetLemmatizer\n",
    "\n",
    "import matplotlib.pyplot as plt\n",
    "import seaborn as sns\n",
    "\n",
    "#tf-idf packages\n",
    "from sklearn.feature_extraction.text import TfidfVectorizer\n",
    "tfidf = TfidfVectorizer()\n",
    "\n",
    "#sklearn packages\n",
    "from sklearn.model_selection import train_test_split\n",
    "from sklearn.naive_bayes import MultinomialNB\n",
    "from sklearn.svm import SVC\n",
    "from sklearn.metrics import classification_report\n",
    "from sklearn.metrics import confusion_matrix\n",
    "from sklearn.pipeline import Pipeline\n",
    "from sklearn.ensemble import RandomForestClassifier\n",
    "from vaderSentiment.vaderSentiment import SentimentIntensityAnalyzer"
   ]
  },
  {
   "cell_type": "code",
   "execution_count": 3,
   "id": "c8805100-6779-4527-ac9c-e6e5b503244f",
   "metadata": {},
   "outputs": [],
   "source": [
    "#this file is to preprocess specefic chartires from the dataset like nan &apos; and so on\n",
    "\n",
    "df = pd.read_csv(\"Grooming_Dataset.csv\")\n",
    "df['text'] = df['text'].astype(str)\n"
   ]
  },
  {
   "cell_type": "markdown",
   "id": "de0848bb-bb5b-446a-b0eb-ac22f75b2aea",
   "metadata": {},
   "source": [
    "## Basic Exploratory Data Analysis"
   ]
  },
  {
   "cell_type": "code",
   "execution_count": 4,
   "id": "1afda2ac-4875-4d59-806a-212a103adea0",
   "metadata": {},
   "outputs": [
    {
     "data": {
      "text/plain": [
       "(499792, 1)"
      ]
     },
     "execution_count": 4,
     "metadata": {},
     "output_type": "execute_result"
    }
   ],
   "source": [
    "df.shape"
   ]
  },
  {
   "cell_type": "code",
   "execution_count": 5,
   "id": "d9d9ff45-a663-49ed-abef-3d2a0ea6362a",
   "metadata": {},
   "outputs": [
    {
     "data": {
      "text/html": [
       "<div>\n",
       "<style scoped>\n",
       "    .dataframe tbody tr th:only-of-type {\n",
       "        vertical-align: middle;\n",
       "    }\n",
       "\n",
       "    .dataframe tbody tr th {\n",
       "        vertical-align: top;\n",
       "    }\n",
       "\n",
       "    .dataframe thead th {\n",
       "        text-align: right;\n",
       "    }\n",
       "</style>\n",
       "<table border=\"1\" class=\"dataframe\">\n",
       "  <thead>\n",
       "    <tr style=\"text-align: right;\">\n",
       "      <th></th>\n",
       "      <th>text</th>\n",
       "    </tr>\n",
       "  </thead>\n",
       "  <tbody>\n",
       "    <tr>\n",
       "      <th>0</th>\n",
       "      <td>noone will care</td>\n",
       "    </tr>\n",
       "    <tr>\n",
       "      <th>1</th>\n",
       "      <td>do u have hobbies?</td>\n",
       "    </tr>\n",
       "    <tr>\n",
       "      <th>2</th>\n",
       "      <td>asl?</td>\n",
       "    </tr>\n",
       "    <tr>\n",
       "      <th>3</th>\n",
       "      <td>I wonder why MS seem to not let any of their b...</td>\n",
       "    </tr>\n",
       "    <tr>\n",
       "      <th>4</th>\n",
       "      <td>and you?</td>\n",
       "    </tr>\n",
       "  </tbody>\n",
       "</table>\n",
       "</div>"
      ],
      "text/plain": [
       "                                                text\n",
       "0                                    noone will care\n",
       "1                                 do u have hobbies?\n",
       "2                                               asl?\n",
       "3  I wonder why MS seem to not let any of their b...\n",
       "4                                           and you?"
      ]
     },
     "execution_count": 5,
     "metadata": {},
     "output_type": "execute_result"
    }
   ],
   "source": [
    "df.head(5)"
   ]
  },
  {
   "cell_type": "code",
   "execution_count": 7,
   "id": "2326e283-d37f-4bc9-b188-e99e250614a0",
   "metadata": {},
   "outputs": [
    {
     "data": {
      "text/plain": [
       "158129"
      ]
     },
     "execution_count": 7,
     "metadata": {},
     "output_type": "execute_result"
    }
   ],
   "source": [
    "df.duplicated().sum()"
   ]
  },
  {
   "cell_type": "code",
   "execution_count": 8,
   "id": "d34e0733-2398-4b2e-a5e3-730de886463c",
   "metadata": {},
   "outputs": [
    {
     "data": {
      "text/html": [
       "<div>\n",
       "<style scoped>\n",
       "    .dataframe tbody tr th:only-of-type {\n",
       "        vertical-align: middle;\n",
       "    }\n",
       "\n",
       "    .dataframe tbody tr th {\n",
       "        vertical-align: top;\n",
       "    }\n",
       "\n",
       "    .dataframe thead th {\n",
       "        text-align: right;\n",
       "    }\n",
       "</style>\n",
       "<table border=\"1\" class=\"dataframe\">\n",
       "  <thead>\n",
       "    <tr style=\"text-align: right;\">\n",
       "      <th></th>\n",
       "      <th>text</th>\n",
       "    </tr>\n",
       "  </thead>\n",
       "  <tbody>\n",
       "    <tr>\n",
       "      <th>0</th>\n",
       "      <td>noone will care</td>\n",
       "    </tr>\n",
       "    <tr>\n",
       "      <th>1</th>\n",
       "      <td>do u have hobbies?</td>\n",
       "    </tr>\n",
       "    <tr>\n",
       "      <th>2</th>\n",
       "      <td>asl?</td>\n",
       "    </tr>\n",
       "    <tr>\n",
       "      <th>3</th>\n",
       "      <td>I wonder why MS seem to not let any of their b...</td>\n",
       "    </tr>\n",
       "    <tr>\n",
       "      <th>4</th>\n",
       "      <td>and you?</td>\n",
       "    </tr>\n",
       "    <tr>\n",
       "      <th>...</th>\n",
       "      <td>...</td>\n",
       "    </tr>\n",
       "    <tr>\n",
       "      <th>499784</th>\n",
       "      <td>can do that</td>\n",
       "    </tr>\n",
       "    <tr>\n",
       "      <th>499787</th>\n",
       "      <td>aight... give me a sec</td>\n",
       "    </tr>\n",
       "    <tr>\n",
       "      <th>499788</th>\n",
       "      <td>oxoxo</td>\n",
       "    </tr>\n",
       "    <tr>\n",
       "      <th>499789</th>\n",
       "      <td>Where by &amp;quot;sometimes&amp;quot; I mean &amp;quot;us...</td>\n",
       "    </tr>\n",
       "    <tr>\n",
       "      <th>499790</th>\n",
       "      <td>Great, crashed my Windows kernel. Be back afte...</td>\n",
       "    </tr>\n",
       "  </tbody>\n",
       "</table>\n",
       "<p>341663 rows × 1 columns</p>\n",
       "</div>"
      ],
      "text/plain": [
       "                                                     text\n",
       "0                                         noone will care\n",
       "1                                      do u have hobbies?\n",
       "2                                                    asl?\n",
       "3       I wonder why MS seem to not let any of their b...\n",
       "4                                                and you?\n",
       "...                                                   ...\n",
       "499784                                        can do that\n",
       "499787                             aight... give me a sec\n",
       "499788                                              oxoxo\n",
       "499789  Where by &quot;sometimes&quot; I mean &quot;us...\n",
       "499790  Great, crashed my Windows kernel. Be back afte...\n",
       "\n",
       "[341663 rows x 1 columns]"
      ]
     },
     "execution_count": 8,
     "metadata": {},
     "output_type": "execute_result"
    }
   ],
   "source": [
    "df.drop_duplicates(['text'])"
   ]
  },
  {
   "cell_type": "markdown",
   "id": "d3e966fb-4bd5-42d1-85b2-875eda3db3cf",
   "metadata": {},
   "source": [
    "## Data Preprocessing"
   ]
  },
  {
   "cell_type": "code",
   "execution_count": 18,
   "id": "21fca99e-447c-41dc-9c84-eb1bd5d67ade",
   "metadata": {},
   "outputs": [],
   "source": [
    "def preprocess(text):\n",
    "    if pd.isnull(text) or text.strip() == \"\":\n",
    "        return \"\"\n",
    "\n",
    "    text = text.lower() # Convert text to lowercase\n",
    "    text = re.sub(r'http\\S+', '', text) # Remove URLs\n",
    "    text = re.sub(r'www\\.\\S+', '', text) # Remove URLs\n",
    "    text = re.sub(r'<.*?>', '', text) # Remove HTML tags\n",
    "    text = text.replace('&quot', '')\n",
    "    text = text.replace('nan', '')\n",
    "    text = text.replace('&', '')\n",
    "    text = text.replace(';', '')\n",
    "    text = text.replace('&apos;', '')\n",
    "    tokens = word_tokenize(text) # Tokenize the text\n",
    " \n",
    "    text = ' '.join(tokens) # Join tokens back into a single string\n",
    "    return text"
   ]
  },
  {
   "cell_type": "code",
   "execution_count": 19,
   "id": "d1a06e18-c206-4872-98ca-5ab137f2bdd1",
   "metadata": {},
   "outputs": [
    {
     "data": {
      "text/html": [
       "<div>\n",
       "<style scoped>\n",
       "    .dataframe tbody tr th:only-of-type {\n",
       "        vertical-align: middle;\n",
       "    }\n",
       "\n",
       "    .dataframe tbody tr th {\n",
       "        vertical-align: top;\n",
       "    }\n",
       "\n",
       "    .dataframe thead th {\n",
       "        text-align: right;\n",
       "    }\n",
       "</style>\n",
       "<table border=\"1\" class=\"dataframe\">\n",
       "  <thead>\n",
       "    <tr style=\"text-align: right;\">\n",
       "      <th></th>\n",
       "      <th>text</th>\n",
       "      <th>cleaned</th>\n",
       "    </tr>\n",
       "  </thead>\n",
       "  <tbody>\n",
       "    <tr>\n",
       "      <th>0</th>\n",
       "      <td>noone will care</td>\n",
       "      <td>noone will care</td>\n",
       "    </tr>\n",
       "    <tr>\n",
       "      <th>1</th>\n",
       "      <td>do u have hobbies?</td>\n",
       "      <td>do u have hobbies ?</td>\n",
       "    </tr>\n",
       "    <tr>\n",
       "      <th>2</th>\n",
       "      <td>asl?</td>\n",
       "      <td>asl ?</td>\n",
       "    </tr>\n",
       "    <tr>\n",
       "      <th>3</th>\n",
       "      <td>I wonder why MS seem to not let any of their b...</td>\n",
       "      <td>i wonder why ms seem to not let any of their b...</td>\n",
       "    </tr>\n",
       "    <tr>\n",
       "      <th>4</th>\n",
       "      <td>and you?</td>\n",
       "      <td>and you ?</td>\n",
       "    </tr>\n",
       "  </tbody>\n",
       "</table>\n",
       "</div>"
      ],
      "text/plain": [
       "                                                text  \\\n",
       "0                                    noone will care   \n",
       "1                                 do u have hobbies?   \n",
       "2                                               asl?   \n",
       "3  I wonder why MS seem to not let any of their b...   \n",
       "4                                           and you?   \n",
       "\n",
       "                                             cleaned  \n",
       "0                                    noone will care  \n",
       "1                                do u have hobbies ?  \n",
       "2                                              asl ?  \n",
       "3  i wonder why ms seem to not let any of their b...  \n",
       "4                                          and you ?  "
      ]
     },
     "execution_count": 19,
     "metadata": {},
     "output_type": "execute_result"
    }
   ],
   "source": [
    "cleaned_texts = [preprocess(row['text']) for _, row in df.iterrows()]\n",
    "df['cleaned'] = cleaned_texts\n",
    "\n",
    "df.head()"
   ]
  },
  {
   "cell_type": "code",
   "execution_count": 23,
   "id": "c7e0464e-45f7-40b3-b935-14f73679e5bd",
   "metadata": {},
   "outputs": [],
   "source": [
    "df['cleaned'].to_csv('/Users/Ren/Desktop/grooming1.csv', index = False)"
   ]
  },
  {
   "cell_type": "code",
   "execution_count": null,
   "id": "d37bc3d3-8a41-4b53-a741-cabeeccae5e9",
   "metadata": {},
   "outputs": [],
   "source": []
  }
 ],
 "metadata": {
  "kernelspec": {
   "display_name": "Python 3 (ipykernel)",
   "language": "python",
   "name": "python3"
  },
  "language_info": {
   "codemirror_mode": {
    "name": "ipython",
    "version": 3
   },
   "file_extension": ".py",
   "mimetype": "text/x-python",
   "name": "python",
   "nbconvert_exporter": "python",
   "pygments_lexer": "ipython3",
   "version": "3.11.9"
  }
 },
 "nbformat": 4,
 "nbformat_minor": 5
}
